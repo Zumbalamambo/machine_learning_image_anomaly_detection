{
 "cells": [
  {
   "cell_type": "code",
   "execution_count": 1,
   "metadata": {},
   "outputs": [
    {
     "name": "stderr",
     "output_type": "stream",
     "text": [
      "Using TensorFlow backend.\n"
     ]
    }
   ],
   "source": [
    "%matplotlib inline\n",
    "import keras\n",
    "import keras.backend     as K\n",
    "import matplotlib.pyplot as plt\n",
    "import numpy             as np\n",
    "\n",
    "from keras.models         import Sequential\n",
    "from keras.layers         import Convolution2D\n",
    "from keras.layers         import AveragePooling2D\n",
    "from keras.layers         import Activation\n",
    "from keras.layers         import Dense\n",
    "from keras.layers         import Flatten\n",
    "from keras.layers         import Reshape\n",
    "from keras.layers         import UpSampling2D\n",
    "from keras.optimizers     import Adam\n",
    "from keras.utils.np_utils import to_categorical\n",
    "from keras.datasets       import mnist\n",
    "\n",
    "path_to_fashion_mnist = '../../datasets/fashion-mnist/'\n",
    "\n",
    "import sys\n",
    "sys.path.insert(0, path_to_fashion_mnist)\n",
    "from utils import mnist_reader"
   ]
  },
  {
   "cell_type": "code",
   "execution_count": 2,
   "metadata": {
    "collapsed": true
   },
   "outputs": [],
   "source": [
    "anomalies_number = 400\n",
    "encoding_size    = 100\n",
    "batch_size       = 64"
   ]
  },
  {
   "cell_type": "markdown",
   "metadata": {},
   "source": [
    "# Dataset creation\n",
    "\n",
    "## Dataset loading\n",
    "\n",
    "First, we load the fashion MNIST dataset."
   ]
  },
  {
   "cell_type": "code",
   "execution_count": 3,
   "metadata": {
    "collapsed": true
   },
   "outputs": [],
   "source": [
    "X_train_fashion, _ = mnist_reader.load_mnist(path_to_fashion_mnist + 'data/fashion', kind = 'train')\n",
    "X_test_fashion, _  = mnist_reader.load_mnist(path_to_fashion_mnist + 'data/fashion', kind = 't10k')\n",
    "X_fashion          = np.concatenate((X_train_fashion, X_test_fashion)).reshape(-1, 28, 28, 1)"
   ]
  },
  {
   "cell_type": "code",
   "execution_count": 4,
   "metadata": {},
   "outputs": [
    {
     "data": {
      "text/plain": [
       "<matplotlib.image.AxesImage at 0x7f627e364f60>"
      ]
     },
     "execution_count": 4,
     "metadata": {},
     "output_type": "execute_result"
    },
    {
     "data": {
      "image/png": "[encoded data removed]",
      "text/plain": [
       "<matplotlib.figure.Figure at 0x7f629a395208>"
      ]
     },
     "metadata": {},
     "output_type": "display_data"
    }
   ],
   "source": [
    "plt.imshow(X_fashion[35].squeeze(), cmap = 'gray')"
   ]
  },
  {
   "cell_type": "markdown",
   "metadata": {},
   "source": [
    "Then we load the digit MNIST dataset."
   ]
  },
  {
   "cell_type": "code",
   "execution_count": 5,
   "metadata": {
    "collapsed": true
   },
   "outputs": [],
   "source": [
    "(X_train_digits, _), (X_test_digits, _) = mnist.load_data()\n",
    "X_digits                                = np.concatenate((X_train_digits, X_test_digits)).reshape(-1, 28, 28, 1)"
   ]
  },
  {
   "cell_type": "code",
   "execution_count": 6,
   "metadata": {},
   "outputs": [
    {
     "data": {
      "text/plain": [
       "<matplotlib.image.AxesImage at 0x7f627e256898>"
      ]
     },
     "execution_count": 6,
     "metadata": {},
     "output_type": "execute_result"
    },
    {
     "data": {
      "image/png": "[encoded data removed]",
      "text/plain": [
       "<matplotlib.figure.Figure at 0x7f629a385f28>"
      ]
     },
     "metadata": {},
     "output_type": "display_data"
    }
   ],
   "source": [
    "plt.imshow(X_digits[35].squeeze(), cmap = 'gray')"
   ]
  },
  {
   "cell_type": "markdown",
   "metadata": {},
   "source": [
    "## Anomaly dataset creation creation\n",
    "\n",
    "Now, we extract `anomaly_number` images from the fashion MNIST dataset. Then, we create a big dataset with all the MNIST digits and these `anomaly number` images."
   ]
  },
  {
   "cell_type": "code",
   "execution_count": 7,
   "metadata": {
    "collapsed": true
   },
   "outputs": [],
   "source": [
    "anomalies = np.random.permutation(X_fashion)[:400]"
   ]
  },
  {
   "cell_type": "code",
   "execution_count": 8,
   "metadata": {},
   "outputs": [
    {
     "data": {
      "text/plain": [
       "<matplotlib.image.AxesImage at 0x7f627e1f1b00>"
      ]
     },
     "execution_count": 8,
     "metadata": {},
     "output_type": "execute_result"
    },
    {
     "data": {
      "image/png": "[encoded data removed]",
      "text/plain": [
       "<matplotlib.figure.Figure at 0x7f627e29aac8>"
      ]
     },
     "metadata": {},
     "output_type": "display_data"
    }
   ],
   "source": [
    "plt.imshow(anomalies[39].squeeze(), cmap = 'gray')"
   ]
  },
  {
   "cell_type": "code",
   "execution_count": 9,
   "metadata": {
    "collapsed": true
   },
   "outputs": [],
   "source": [
    "X = np.concatenate((X_digits, anomalies))\n",
    "X = np.random.permutation(X)\n",
    "X = (X - X.mean()) / X.std()"
   ]
  },
  {
   "cell_type": "markdown",
   "metadata": {},
   "source": [
    "# Replicator network\n",
    "\n",
    "The intuition that I have on replicator network is that they are autoencoders (a highly specialized compressor and decompressor) trained on the whole dataset. The idea is that the \"usual\" will be handled quite well by our autoencoder in the sense that the structure of the data will be well understood, i.e. the image produced by encoding and then decoding will be very close to the original one. To discover anomalies in our dataset, we will try to look for images that differ a lot from their compressed and decompressed counterparts.\n",
    "\n",
    "Let's first build and train this autoencoder."
   ]
  },
  {
   "cell_type": "code",
   "execution_count": 10,
   "metadata": {},
   "outputs": [],
   "source": [
    "encoder = Sequential([\n",
    "    Convolution2D(64, (3, 3), padding = 'same', input_shape = (28, 28, 1), activation = 'relu'),\n",
    "    Convolution2D(64, (3, 3), padding = 'same', activation = 'relu'),\n",
    "    AveragePooling2D(),\n",
    "    Convolution2D(128, (3, 3), padding = 'same', activation = 'relu'),\n",
    "    Convolution2D(128, (3, 3), padding = 'same', activation = 'relu'),\n",
    "    AveragePooling2D(),\n",
    "    Flatten(),\n",
    "    Dense(128, activation = 'relu'),\n",
    "    Dense(encoding_size),\n",
    "])"
   ]
  },
  {
   "cell_type": "code",
   "execution_count": 11,
   "metadata": {},
   "outputs": [],
   "source": [
    "decoder = Sequential([\n",
    "    Dense(49, input_shape = (encoding_size,), activation = 'relu'),\n",
    "    Reshape((7, 7, 1)),\n",
    "    Convolution2D(128, (3, 3), padding = 'same', activation = 'relu'),\n",
    "    Convolution2D(128, (3, 3), padding = 'same', activation = 'relu'),\n",
    "    UpSampling2D(),\n",
    "    Convolution2D(64, (3, 3), padding = 'same', activation = 'relu'),\n",
    "    Convolution2D(64, (3, 3), padding = 'same', activation = 'relu'),\n",
    "    UpSampling2D(),\n",
    "    Convolution2D(1, (3, 3), padding = 'same', activation = 'tanh')\n",
    "])"
   ]
  },
  {
   "cell_type": "code",
   "execution_count": 12,
   "metadata": {
    "collapsed": true
   },
   "outputs": [],
   "source": [
    "autoencoder = Sequential([\n",
    "    encoder,\n",
    "    decoder\n",
    "])\n",
    "autoencoder.compile(optimizer = Adam(1e-4), loss = 'mse')"
   ]
  },
  {
   "cell_type": "code",
   "execution_count": null,
   "metadata": {
    "collapsed": true
   },
   "outputs": [],
   "source": [
    "fit_params = {\n",
    "    'x'               : X,\n",
    "    'y'               : X,\n",
    "    'batch_size'      : batch_size,\n",
    "    'epochs'          : 50,\n",
    "    'validation_split': 0.15\n",
    "}"
   ]
  },
  {
   "cell_type": "code",
   "execution_count": null,
   "metadata": {},
   "outputs": [
    {
     "name": "stdout",
     "output_type": "stream",
     "text": [
      "Train on 59840 samples, validate on 10560 samples\n",
      "Epoch 1/50\n",
      "59840/59840 [==============================] - 132s - loss: 0.4898 - val_loss: 0.4071\n",
      "Epoch 2/50\n",
      "59840/59840 [==============================] - 133s - loss: 0.3939 - val_loss: 0.3826\n",
      "Epoch 3/50\n",
      "55616/59840 [==========================>...] - ETA: 9s - loss: 0.3776"
     ]
    }
   ],
   "source": [
    "autoencoder.fit(**fit_params)"
   ]
  },
  {
   "cell_type": "markdown",
   "metadata": {},
   "source": [
    "Now that the network is trained, we want to get an idea of the quality of compression on \"normal\" data and on \"anomalies\"."
   ]
  },
  {
   "cell_type": "code",
   "execution_count": null,
   "metadata": {},
   "outputs": [],
   "source": [
    "digit_img = np.expand_dims(X_digits[2929], 0)\n",
    "digit_img_ = autoencoder.predict(digit_img)\n",
    "plt.subplot(1, 2, 1)\n",
    "plt.imshow(digit_img[0].squeeze(), cmap = 'gray')\n",
    "plt.subplot(1, 2, 2)\n",
    "plt.imshow(digit_img_[0].squeeze(), cmap = 'gray')"
   ]
  },
  {
   "cell_type": "markdown",
   "metadata": {},
   "source": [
    "We can see that the digit images are recovered pretty well, that is a good first step for what we are trying to implement.\n",
    "\n",
    "Now let's do the same thing with images from the fashion dataset."
   ]
  },
  {
   "cell_type": "code",
   "execution_count": null,
   "metadata": {},
   "outputs": [],
   "source": [
    "fashion_img = np.expand_dims(X_fashion[22], 0)\n",
    "fashion_img_ = autoencoder.predict(fashion_img)\n",
    "plt.subplot(1, 2, 1)\n",
    "plt.imshow(fashion_img[0].squeeze(), cmap = 'gray')\n",
    "plt.subplot(1, 2, 2)\n",
    "plt.imshow(fashion_img_[0].squeeze(), cmap = 'gray')"
   ]
  },
  {
   "cell_type": "markdown",
   "metadata": {},
   "source": [
    "The quality of the recovered image is terrible, which is really good for our usecase. Since these images are very different from the \"normal\" ones, the autoencoder haven't manage to capture their structures. We can hope that anomalous images will have a reconstruction loss much higher than normal ones."
   ]
  },
  {
   "cell_type": "code",
   "execution_count": null,
   "metadata": {
    "collapsed": true
   },
   "outputs": [],
   "source": [
    "autoencoder.save_weights('../models/autoencoder_%dD.h5')"
   ]
  },
  {
   "cell_type": "code",
   "execution_count": null,
   "metadata": {
    "collapsed": true
   },
   "outputs": [],
   "source": [
    "autoencoder.load_weights('../models/autoencoder_%dD.h5')"
   ]
  },
  {
   "cell_type": "code",
   "execution_count": null,
   "metadata": {
    "collapsed": true
   },
   "outputs": [],
   "source": [
    "X_ = autoencoder.predict(X, batch_size = 128)"
   ]
  },
  {
   "cell_type": "code",
   "execution_count": null,
   "metadata": {},
   "outputs": [],
   "source": [
    "pixel_mse = ((X - X_) ** 2).squeeze()\n",
    "image_mse = pixel_mse.reshape(pixel_mse.shape[0], -1).mean(axis = 1)"
   ]
  },
  {
   "cell_type": "code",
   "execution_count": null,
   "metadata": {},
   "outputs": [],
   "source": [
    "plt.hist(image_mse, bins = 30)"
   ]
  },
  {
   "cell_type": "code",
   "execution_count": null,
   "metadata": {
    "collapsed": true
   },
   "outputs": [],
   "source": [
    "reconstruction_loss_sort_idx = image_mse.argsort()"
   ]
  },
  {
   "cell_type": "code",
   "execution_count": null,
   "metadata": {
    "collapsed": true
   },
   "outputs": [],
   "source": [
    "def create_visualization(X, n, loss_idx):\n",
    "    plt.figure(figsize = (15, 15))\n",
    "    X_high_loss = X[loss_idx[-n**2:]]\n",
    "    for i in range(n):\n",
    "        for j in range(n):\n",
    "            idx = i * n + j\n",
    "            plt.subplot(n, n, idx + 1)\n",
    "            img = X_high_loss[idx].squeeze()\n",
    "            plt.imshow(img, cmap = 'gray')\n",
    "            plt.axis('off')"
   ]
  },
  {
   "cell_type": "code",
   "execution_count": null,
   "metadata": {},
   "outputs": [],
   "source": [
    "create_visualization(X, 20, reconstruction_loss_sort_idx)"
   ]
  }
 ],
 "metadata": {
  "kernelspec": {
   "display_name": "Python 3",
   "language": "python",
   "name": "python3"
  },
  "language_info": {
   "codemirror_mode": {
    "name": "ipython",
    "version": 3
   },
   "file_extension": ".py",
   "mimetype": "text/x-python",
   "name": "python",
   "nbconvert_exporter": "python",
   "pygments_lexer": "ipython3",
   "version": "3.6.1"
  }
 },
 "nbformat": 4,
 "nbformat_minor": 2
}
